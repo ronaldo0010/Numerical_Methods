{
 "cells": [
  {
   "cell_type": "code",
   "execution_count": 1,
   "id": "705b5641",
   "metadata": {},
   "outputs": [],
   "source": [
    "import numpy as np\n",
    "import pandas as pd\n",
    "from math import *\n",
    "from scipy.special import factorial, gammaln\n",
    "import matplotlib.pyplot as plot\n",
    "import warnings\n",
    "warnings.filterwarnings('ignore')\n",
    "pd.set_option(\"display.precision\", 16)"
   ]
  },
  {
   "cell_type": "markdown",
   "id": "d8fd8715",
   "metadata": {},
   "source": [
    "## Problem 1"
   ]
  },
  {
   "cell_type": "markdown",
   "id": "baea0377",
   "metadata": {},
   "source": [
    "Explore how Floating point arithmetic produce different values for the following functions:"
   ]
  },
  {
   "cell_type": "markdown",
   "id": "f594a3a4",
   "metadata": {},
   "source": [
    " \n",
    "$f_1 = \\frac{\\sqrt{4 +x} - 2}{x} $\n",
    "\n",
    "$f_2= \\frac{1}{ \\sqrt{4 +x} + 2}$\n"
   ]
  },
  {
   "cell_type": "code",
   "execution_count": 2,
   "id": "7adbb636",
   "metadata": {},
   "outputs": [],
   "source": [
    "f1 = lambda x: (sqrt(4+x)-2)/x\n",
    "f2 = lambda x: 1/(sqrt(4+x)+ 2)"
   ]
  },
  {
   "cell_type": "code",
   "execution_count": 3,
   "id": "2b7ee02c",
   "metadata": {},
   "outputs": [],
   "source": [
    "res1 = []\n",
    "res2 = []\n",
    "domain = []\n",
    "\n",
    "for i in range(1, 15):\n",
    "    x = pow(10, -i)\n",
    "    \n",
    "    domain.append(x)\n",
    "    res1.append(f1(x))\n",
    "    res2.append(f2(x))"
   ]
  },
  {
   "cell_type": "code",
   "execution_count": 4,
   "id": "df29f276",
   "metadata": {},
   "outputs": [
    {
     "name": "stdout",
     "output_type": "stream",
     "text": [
      "                                  f1                  f2\n",
      "0.10000000000000  0.2484567313165842  0.2484567313165870\n",
      "0.01000000000000  0.2498439450078660  0.2498439450078573\n",
      "0.00100000000000  0.2499843769530052  0.2499843769528198\n",
      "0.00010000000000  0.2499984375203823  0.2499984375195309\n",
      "0.00001000000000  0.2499998437599515  0.2499998437501953\n",
      "0.00000100000000  0.2499999842697775  0.2499999843750020\n",
      "0.00000010000000  0.2499999984806323  0.2499999984375000\n",
      "0.00000001000000  0.2499999762761718  0.2499999998437500\n",
      "0.00000000100000  0.2500000206850927  0.2499999999843750\n",
      "0.00000000010000  0.2500000206850927  0.2499999999984375\n",
      "0.00000000001000  0.2499778162246003  0.2499999999998438\n",
      "0.00000000000100  0.2500222251455853  0.2499999999999843\n",
      "0.00000000000010  0.2486899575160351  0.2499999999999984\n",
      "0.00000000000001  0.2220446049250313  0.2499999999999999\n"
     ]
    }
   ],
   "source": [
    "data = {\"f1\": res1, \"f2\": res2}\n",
    "df = pd.DataFrame(data, index=domain)\n",
    "\n",
    "print(df)"
   ]
  },
  {
   "cell_type": "markdown",
   "id": "09371f45",
   "metadata": {},
   "source": [
    "$f_2$ produces the most accurate results since, as x -> 0, $f_2$ -> 0.25, $f_1$ fluctuates at $10^{-9}$. This occurs as x -> 0 $\\sqrt{(4+x)}$ -> 2. This phenomenon is called numerical cancellation - Two almost equal number cancel eachother out."
   ]
  },
  {
   "cell_type": "markdown",
   "id": "78d77d65",
   "metadata": {},
   "source": [
    "----"
   ]
  },
  {
   "cell_type": "markdown",
   "id": "70508e64",
   "metadata": {},
   "source": [
    "## Problem 2"
   ]
  },
  {
   "cell_type": "code",
   "execution_count": 5,
   "id": "9e834713",
   "metadata": {},
   "outputs": [
    {
     "data": {
      "text/plain": [
       "87990"
      ]
     },
     "execution_count": 5,
     "metadata": {},
     "output_type": "execute_result"
    }
   ],
   "source": [
    "# Built-in function\n",
    "comb(420,2)"
   ]
  },
  {
   "cell_type": "code",
   "execution_count": 6,
   "id": "1809bc26",
   "metadata": {},
   "outputs": [],
   "source": [
    "# ii) From definition own function \n",
    "def facto(n):\n",
    "    res = 1\n",
    "    for i in range(1, n+1):\n",
    "        res *= i\n",
    "        \n",
    "    return res"
   ]
  },
  {
   "cell_type": "code",
   "execution_count": 7,
   "id": "74e4c21b",
   "metadata": {},
   "outputs": [],
   "source": [
    "def combi(n, k):\n",
    "    return facto(n)/(facto(k)*facto(n-k))"
   ]
  },
  {
   "cell_type": "code",
   "execution_count": 8,
   "id": "fb45f3e0",
   "metadata": {},
   "outputs": [
    {
     "data": {
      "text/plain": [
       "87990.0"
      ]
     },
     "execution_count": 8,
     "metadata": {},
     "output_type": "execute_result"
    }
   ],
   "source": [
    "combi(420,2)"
   ]
  },
  {
   "cell_type": "code",
   "execution_count": 9,
   "id": "64db8720",
   "metadata": {},
   "outputs": [],
   "source": [
    "# ii) From definition\n",
    "def combi2(n, k):\n",
    "    return factorial(n)/(factorial(k) * factorial(n-k))"
   ]
  },
  {
   "cell_type": "code",
   "execution_count": 10,
   "id": "8bba4fb1",
   "metadata": {},
   "outputs": [
    {
     "data": {
      "text/plain": [
       "nan"
      ]
     },
     "execution_count": 10,
     "metadata": {},
     "output_type": "execute_result"
    }
   ],
   "source": [
    "combi2(420, 2)"
   ]
  },
  {
   "cell_type": "markdown",
   "id": "4423642f",
   "metadata": {},
   "source": [
    "The scipy implementation of factorial is not good at it's job. "
   ]
  },
  {
   "cell_type": "code",
   "execution_count": 11,
   "id": "988b91b7",
   "metadata": {},
   "outputs": [],
   "source": [
    "# b) Gamma function\n",
    "def combi3(n,k):\n",
    "    return exp(gammaln(n+1)-gammaln(k+1)-gammaln(n-k+1))"
   ]
  },
  {
   "cell_type": "code",
   "execution_count": 12,
   "id": "80e8eb77",
   "metadata": {},
   "outputs": [
    {
     "data": {
      "text/plain": [
       "87990.00000000511"
      ]
     },
     "execution_count": 12,
     "metadata": {},
     "output_type": "execute_result"
    }
   ],
   "source": [
    "combi3(420,2)"
   ]
  },
  {
   "cell_type": "markdown",
   "id": "ac2fea2d",
   "metadata": {},
   "source": [
    "-----------------"
   ]
  },
  {
   "cell_type": "markdown",
   "id": "727499cc",
   "metadata": {},
   "source": [
    "## Problem 3"
   ]
  },
  {
   "cell_type": "code",
   "execution_count": 13,
   "id": "29d06fc8",
   "metadata": {},
   "outputs": [],
   "source": [
    "def binomial(x,n=11):\n",
    "    res = 0\n",
    "    sign = 1\n",
    "    for k in range(n+1):\n",
    "        sign = 1\n",
    "        if k % 2 == 1:\n",
    "            sign = -1\n",
    "        res += comb(n,k)*pow(x, n-k)*pow(1,k) * sign\n",
    "    return res"
   ]
  },
  {
   "cell_type": "code",
   "execution_count": 14,
   "id": "c34da8b8",
   "metadata": {},
   "outputs": [],
   "source": [
    "eval_bin = lambda x: binomial(x)\n",
    "eval_ = lambda x: pow((x-1),11)"
   ]
  },
  {
   "cell_type": "code",
   "execution_count": 15,
   "id": "5372eb32",
   "metadata": {},
   "outputs": [],
   "source": [
    "domain = np.linspace(0.99, 1.01, 1001)\n",
    "res_bin = []\n",
    "res_ = []\n",
    "\n",
    "for x in domain:\n",
    "    res_bin.append(eval_bin(x))\n",
    "    res_.append(eval_(x))"
   ]
  },
  {
   "cell_type": "code",
   "execution_count": 16,
   "id": "c5c75de0",
   "metadata": {},
   "outputs": [
    {
     "data": {
      "image/png": "[encoded data removed]",
      "text/plain": [
       "<Figure size 432x288 with 1 Axes>"
      ]
     },
     "metadata": {
      "needs_background": "light"
     },
     "output_type": "display_data"
    }
   ],
   "source": [
    "plot.plot(domain, res_bin, 'r-')\n",
    "plot.show()"
   ]
  },
  {
   "cell_type": "markdown",
   "id": "31ffd7db",
   "metadata": {},
   "source": [
    "### abs error = 2.0"
   ]
  },
  {
   "cell_type": "code",
   "execution_count": 17,
   "id": "1c05ac5f",
   "metadata": {},
   "outputs": [],
   "source": [
    "## b) (x-1)^19\n",
    "\n",
    "domain = np.linspace(0.99, 1.01, 1001)\n",
    "res_bin = []\n",
    "res_ = []\n",
    "\n",
    "for x in domain:\n",
    "    res_bin.append(binomial(x,n=19))\n",
    "    res_.append(eval_(x))"
   ]
  },
  {
   "cell_type": "code",
   "execution_count": 18,
   "id": "b0aca4a2",
   "metadata": {},
   "outputs": [
    {
     "data": {
      "image/png": "[encoded data removed]",
      "text/plain": [
       "<Figure size 432x288 with 1 Axes>"
      ]
     },
     "metadata": {
      "needs_background": "light"
     },
     "output_type": "display_data"
    }
   ],
   "source": [
    "plot.plot(domain, res_bin, 'r-', domain, res_, 'b-')\n",
    "plot.show()"
   ]
  },
  {
   "cell_type": "markdown",
   "id": "25b98e3c",
   "metadata": {},
   "source": [
    "### abs error = 4.0"
   ]
  },
  {
   "cell_type": "markdown",
   "id": "f7bf9800",
   "metadata": {},
   "source": [
    "-----"
   ]
  }
 ],
 "metadata": {
  "kernelspec": {
   "display_name": "Python 3 (ipykernel)",
   "language": "python",
   "name": "python3"
  },
  "language_info": {
   "codemirror_mode": {
    "name": "ipython",
    "version": 3
   },
   "file_extension": ".py",
   "mimetype": "text/x-python",
   "name": "python",
   "nbconvert_exporter": "python",
   "pygments_lexer": "ipython3",
   "version": "3.9.7"
  }
 },
 "nbformat": 4,
 "nbformat_minor": 5
}
