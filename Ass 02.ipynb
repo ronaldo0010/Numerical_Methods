{
 "cells": [
  {
   "cell_type": "markdown",
   "id": "4810fe66",
   "metadata": {},
   "source": [
    "## Problem 1"
   ]
  },
  {
   "cell_type": "code",
   "execution_count": 1,
   "id": "b962169c",
   "metadata": {},
   "outputs": [],
   "source": [
    "from math import *\n",
    "from scipy.special import factorial, gammaln, erf\n",
    "from scipy.optimize import fsolve\n",
    "import numpy as np\n",
    "import pandas as pd"
   ]
  },
  {
   "cell_type": "markdown",
   "id": "6fe6519f",
   "metadata": {},
   "source": [
    "#### (a) Birthday Paradox "
   ]
  },
  {
   "cell_type": "code",
   "execution_count": 2,
   "id": "c969fefc",
   "metadata": {},
   "outputs": [
    {
     "name": "stdout",
     "output_type": "stream",
     "text": [
      "0.5072972343240897\n",
      "For 23 people the birthday paradox yields 51%\n"
     ]
    }
   ],
   "source": [
    "days = 365\n",
    "n = 23\n",
    "fraction = exp(gammaln(days+1) - gammaln(days-n + 1))\n",
    "fraction *= (1/pow(days, n))\n",
    "\n",
    "prob = 1 - fraction\n",
    "print(prob)\n",
    "percentage = round(prob*100)\n",
    "print(\"For {} people the birthday paradox yields {}%\".format(n, percentage))"
   ]
  },
  {
   "cell_type": "markdown",
   "id": "8d092cd4",
   "metadata": {},
   "source": [
    "#### (b) fsolve"
   ]
  },
  {
   "cell_type": "code",
   "execution_count": 3,
   "id": "66a3e9cf",
   "metadata": {},
   "outputs": [
    {
     "name": "stdout",
     "output_type": "stream",
     "text": [
      "Solution: 22.767690315612928\n"
     ]
    }
   ],
   "source": [
    "days = 365\n",
    "f = lambda n: 0.5 - ((exp(gammaln(days + 1) - gammaln(days - n + 1))) * (1/pow(days, n))) \n",
    "x = fsolve(f, x0=23, xtol=pow(10,-10))[0]\n",
    "print(\"Solution:\",x)"
   ]
  },
  {
   "cell_type": "markdown",
   "id": "308bbcc6",
   "metadata": {},
   "source": [
    "-----"
   ]
  },
  {
   "cell_type": "markdown",
   "id": "46593f6b",
   "metadata": {},
   "source": [
    "## Problem 2"
   ]
  },
  {
   "cell_type": "code",
   "execution_count": 4,
   "id": "a621ca75",
   "metadata": {},
   "outputs": [],
   "source": [
    "def bisect(f, a, b, tol=pow(10, -4)):\n",
    "    fa = f(a)\n",
    "    fb = f(b)\n",
    "    k = 0\n",
    "    while abs((b-a))/2 > tol:\n",
    "        c = (a+b)/2\n",
    "        fc = f(c)\n",
    "        \n",
    "        if (fa*fc < 0):\n",
    "            b = c\n",
    "            fb = fc\n",
    "        else:\n",
    "            a = c\n",
    "            fa = fc\n",
    "    return c"
   ]
  },
  {
   "cell_type": "code",
   "execution_count": 5,
   "id": "161504fe",
   "metadata": {},
   "outputs": [],
   "source": [
    "def false_position(f, a, b, tol=pow(10, -4)):\n",
    "    fa = f(a)\n",
    "    fb = f(b)\n",
    "    fc = 100\n",
    "    \n",
    "    while abs(fc) > tol:\n",
    "        c = (a*fb-b*fa)/(fb-fa)\n",
    "        fc = f(c)\n",
    "\n",
    "        if (fa*fc < 0):\n",
    "            b = c\n",
    "            fb = fc\n",
    "        else:\n",
    "            a = c\n",
    "            fa = fc\n",
    "        #print(c)\n",
    "        \n",
    "        \n",
    "    return c"
   ]
  },
  {
   "cell_type": "markdown",
   "id": "84b02235",
   "metadata": {},
   "source": [
    "a) Bisection method"
   ]
  },
  {
   "cell_type": "code",
   "execution_count": 6,
   "id": "d635c7c3",
   "metadata": {},
   "outputs": [
    {
     "name": "stdout",
     "output_type": "stream",
     "text": [
      "Sol 1: 4.49334716796875\n",
      "Sol 2: 7.634748073960058\n",
      "Sol 3: 10.776148979951365\n"
     ]
    }
   ],
   "source": [
    "f = lambda x: np.tan(x) - x\n",
    "\n",
    "p = bisect(f,2,5) \n",
    "print(\"Sol 1:\",p)\n",
    "p = bisect(f, p, p+np.pi)\n",
    "print(\"Sol 2:\",p)\n",
    "\n",
    "p = bisect(f, p, p+np.pi)\n",
    "print(\"Sol 3:\",p)"
   ]
  },
  {
   "cell_type": "markdown",
   "id": "1f8c56e1",
   "metadata": {},
   "source": [
    "b) Regula-Falsi"
   ]
  },
  {
   "cell_type": "code",
   "execution_count": 7,
   "id": "10a8982c",
   "metadata": {},
   "outputs": [
    {
     "name": "stdout",
     "output_type": "stream",
     "text": [
      "Sol 1: 4.493405305810955\n",
      "Sol 2: 7.725250976308113\n",
      "Sol 3: 10.904120912381885\n"
     ]
    }
   ],
   "source": [
    "f = lambda x: np.tan(x) - x\n",
    "\n",
    "p = false_position(f,3.9,4.6) \n",
    "print(\"Sol 1:\",p)\n",
    "\n",
    "p = false_position(f, 5.6, 7.7)\n",
    "print(\"Sol 2:\",p)\n",
    "\n",
    "p = false_position(f, 8.15, 10.93)\n",
    "print(\"Sol 3:\",p)\n"
   ]
  },
  {
   "cell_type": "markdown",
   "id": "bf55bee2",
   "metadata": {},
   "source": [
    "------"
   ]
  },
  {
   "cell_type": "markdown",
   "id": "ac9cfd6f",
   "metadata": {},
   "source": [
    "## Problem 3"
   ]
  },
  {
   "cell_type": "code",
   "execution_count": 8,
   "id": "b3f1128d",
   "metadata": {},
   "outputs": [],
   "source": [
    "def fixi(f):\n",
    "    x = 1\n",
    "    res = []\n",
    "    for i in range(0,10):\n",
    "        x = f(x)\n",
    "        res.append(x)\n",
    "        \n",
    "    return res"
   ]
  },
  {
   "cell_type": "markdown",
   "id": "eed0f328",
   "metadata": {},
   "source": [
    "### a) $ x -> 0.5x +  \\frac{1}{x}$"
   ]
  },
  {
   "cell_type": "code",
   "execution_count": 9,
   "id": "8aff45e6",
   "metadata": {},
   "outputs": [],
   "source": [
    "f = lambda x: 0.5*x + 1/x\n",
    "f = fixi(f)"
   ]
  },
  {
   "cell_type": "markdown",
   "id": "bb29e0cb",
   "metadata": {},
   "source": [
    "### b) $ x -> \\frac{2}{3}x +  \\frac{2}{3x}$"
   ]
  },
  {
   "cell_type": "code",
   "execution_count": 10,
   "id": "175cd32d",
   "metadata": {},
   "outputs": [],
   "source": [
    "g = lambda x: 2/3*x + 2/(3*x) \n",
    "g = fixi(g)"
   ]
  },
  {
   "cell_type": "markdown",
   "id": "4d69be7b",
   "metadata": {},
   "source": [
    "### c) $ x -> \\frac{3}{4}x +  \\frac{3}{4x}$"
   ]
  },
  {
   "cell_type": "code",
   "execution_count": 11,
   "id": "5bc5d8a5",
   "metadata": {},
   "outputs": [],
   "source": [
    "h = lambda x: 3/4*x + 3/(4*x)\n",
    "h = fixi(h)"
   ]
  },
  {
   "cell_type": "code",
   "execution_count": 12,
   "id": "337506be",
   "metadata": {},
   "outputs": [
    {
     "name": "stdout",
     "output_type": "stream",
     "text": [
      "r = 1.4142135623730951\n",
      "\n",
      "                    f                   g                   h\n",
      "0  1.5000000000000000  1.3333333333333333  1.5000000000000000\n",
      "1  1.4166666666666665  1.3888888888888888  1.6250000000000000\n",
      "2  1.4142156862745097  1.4059259259259260  1.6802884615384617\n",
      "3  1.4142135623746899  1.4114673015129635  1.7065682774843183\n",
      "4  1.4142135623730949  1.4132999231994867  1.7194046690076297\n",
      "5  1.4142135623730949  1.4139092128583717  1.7257509912233235\n",
      "6  1.4142135623730949  1.4141121343723302  1.7289066487316345\n",
      "7  1.4142135623730949  1.4141797554645006  1.7304801576280711\n",
      "8  1.4142135623730949  1.4142022936729557  1.7312658389939559\n",
      "9  1.4142135623730949  1.4142098061696458  1.7316584122590377\n"
     ]
    }
   ],
   "source": [
    "data = {'f': f,'g':g, 'h':h}\n",
    "df= pd.DataFrame(data)\n",
    "pd.set_option(\"display.precision\", 16)\n",
    "\n",
    "print(\"r =\", pow(2, 0.5), end=\"\\n\\n\")\n",
    "print(df)"
   ]
  },
  {
   "cell_type": "markdown",
   "id": "9710a1ad",
   "metadata": {},
   "source": [
    "#### from fastest to slowest: (f), (g), (h)\n",
    "#### where \n",
    "#### f :  $ x -> 0.5x +  \\frac{1}{x}$\n",
    "#### g: $ x -> \\frac{2}{3}x +  \\frac{2}{3x}$\n",
    "#### h: $ x -> \\frac{3}{4}x +  \\frac{3}{4x}$"
   ]
  },
  {
   "cell_type": "markdown",
   "id": "f2962227",
   "metadata": {},
   "source": [
    "----"
   ]
  },
  {
   "cell_type": "markdown",
   "id": "769ccc1f",
   "metadata": {},
   "source": [
    "## Problem 4"
   ]
  },
  {
   "cell_type": "code",
   "execution_count": 13,
   "id": "9ac06438",
   "metadata": {},
   "outputs": [],
   "source": [
    "def Newton(f, df, x):\n",
    "    return x - (f(x)/df(x))\n",
    "\n",
    "def correct_digits(rel_err):\n",
    "    return -int(np.log(2*rel_err))"
   ]
  },
  {
   "cell_type": "markdown",
   "id": "9851f135",
   "metadata": {},
   "source": [
    "### a) Newton's method"
   ]
  },
  {
   "cell_type": "code",
   "execution_count": 14,
   "id": "71ac7ad2",
   "metadata": {},
   "outputs": [],
   "source": [
    "z = 2*np.log(2)\n",
    "f = lambda x: x*exp(x) - z\n",
    "df = lambda x: exp(x) + x*exp(x)\n",
    "\n",
    "c = Newton(f,df,z)\n",
    "rel_err = abs(c - np.log(2))\n",
    "\n",
    "c_val = [c]\n",
    "rel_error = [rel_err]\n",
    "\n",
    "for i in range(1,6):\n",
    "    c = Newton(f,df,c)\n",
    "    rel_err = abs(c - np.log(2))\n",
    "    \n",
    "    c_val.append(c)\n",
    "    rel_error.append(rel_err)\n",
    "    "
   ]
  },
  {
   "cell_type": "code",
   "execution_count": 15,
   "id": "1cf95dc2",
   "metadata": {},
   "outputs": [
    {
     "name": "stdout",
     "output_type": "stream",
     "text": [
      "                x new           rel error\n",
      "0  0.9505891992671945  0.2574420187072493\n",
      "1  0.7379518598316628  0.0448046792717175\n",
      "2  0.6946966574945903  0.0015494769346450\n",
      "3  0.6931490879988578  0.0000019074389125\n",
      "4  0.6931471805628389  0.0000000000028936\n",
      "5  0.6931471805599453  0.0000000000000000\n"
     ]
    }
   ],
   "source": [
    "data = {\"x new\":c_val, \"rel error\": rel_error}\n",
    "df= pd.DataFrame(data)\n",
    "pd.set_option(\"display.precision\", 16)\n",
    "\n",
    "print(df)"
   ]
  },
  {
   "cell_type": "markdown",
   "id": "c70a27c5",
   "metadata": {},
   "source": [
    "#### At 4 iterations are required to get atleast 10 digit accuracy (16 digits)\n",
    "\n",
    "#### Quadratic convergence"
   ]
  },
  {
   "cell_type": "markdown",
   "id": "c5e62626",
   "metadata": {},
   "source": [
    "### b)  Halley's method"
   ]
  },
  {
   "cell_type": "code",
   "execution_count": 16,
   "id": "8e843ad5",
   "metadata": {},
   "outputs": [],
   "source": [
    "def Halley(f, df, ddf, x):\n",
    "    return x - ((2*f(x)*df(x))/((2*pow(df(x),2)) - (f(x)*ddf(x))))"
   ]
  },
  {
   "cell_type": "code",
   "execution_count": 17,
   "id": "d376b89e",
   "metadata": {},
   "outputs": [],
   "source": [
    "z = 2*np.log(2)\n",
    "f = lambda x: x*exp(x) - z\n",
    "df = lambda x: exp(x) + x*exp(x)\n",
    "ddf = lambda x: 2*exp(x) + x*exp(x)\n",
    "\n",
    "c = Halley(f,df,ddf,z)\n",
    "\n",
    "rel_err = abs(c - np.log(2))\n",
    "\n",
    "c_val = [c]\n",
    "rel_error = [rel_err]\n",
    "\n",
    "for i in range(1,3):\n",
    "    c = Halley(f,df,ddf,c)\n",
    "    rel_err = abs(c - np.log(2))\n",
    "    \n",
    "    c_val.append(c)\n",
    "    rel_error.append(rel_err)"
   ]
  },
  {
   "cell_type": "code",
   "execution_count": 18,
   "id": "8c95ae48",
   "metadata": {},
   "outputs": [
    {
     "name": "stdout",
     "output_type": "stream",
     "text": [
      "                x new           rel error\n",
      "0  0.7556183301176645  0.0624711495577193\n",
      "1  0.6932109077151907  0.0000637271552454\n",
      "2  0.6931471805600149  0.0000000000000696\n"
     ]
    }
   ],
   "source": [
    "data = {\"x new\":c_val, \"rel error\": rel_error}\n",
    "df= pd.DataFrame(data)\n",
    "pd.set_option(\"display.precision\", 16)\n",
    "\n",
    "print(df)"
   ]
  },
  {
   "cell_type": "markdown",
   "id": "8bc8866c",
   "metadata": {},
   "source": [
    "---"
   ]
  },
  {
   "cell_type": "markdown",
   "id": "58a69c74",
   "metadata": {},
   "source": [
    "## Problem 5"
   ]
  },
  {
   "cell_type": "markdown",
   "id": "f9145b5a",
   "metadata": {},
   "source": [
    "### a) Newton vd Waal"
   ]
  },
  {
   "cell_type": "code",
   "execution_count": 19,
   "id": "87f0e0de",
   "metadata": {},
   "outputs": [
    {
     "name": "stdout",
     "output_type": "stream",
     "text": [
      "init guess = 1.7505664\n"
     ]
    }
   ],
   "source": [
    "R = 0.0820578\n",
    "T = 320\n",
    "P = 15\n",
    "n = 1\n",
    "\n",
    "V0 = n*R*T/P  \n",
    "\n",
    "print(\"init guess =\", V0)"
   ]
  },
  {
   "cell_type": "code",
   "execution_count": 20,
   "id": "0c94d76e",
   "metadata": {},
   "outputs": [],
   "source": [
    "a = 1.36\n",
    "b = 0.003183\n",
    "\n",
    "f = lambda v: (P + pow(n,2)*a/pow(v,2))*(v - n* b) - n*R*T\n",
    "df = lambda v: P - pow(n,2)*a/pow(v,2) + 2*pow(n,3)*a*b/pow(v,3)\n",
    "\n",
    "c = V0\n",
    "c_val = [V0]\n",
    "\n",
    "tol = True\n",
    "expected = fsolve(f, x0=V0, xtol=pow(10,-10))[0]\n",
    "\n",
    "rel_error = [abs(expected-V0)]\n",
    "\n",
    "while tol:\n",
    "    c_new = Newton(f,df, c)\n",
    "    \n",
    "    tol = abs(c - c_new) > pow(10,-10)\n",
    "    \n",
    "    if not tol:\n",
    "        break\n",
    "        \n",
    "    c_val.append(c_new)\n",
    "    rel_error.append(abs(expected-c_new))\n",
    "    \n",
    "    c = c_new\n",
    "    \n"
   ]
  },
  {
   "cell_type": "code",
   "execution_count": 21,
   "id": "58e37ccc",
   "metadata": {},
   "outputs": [
    {
     "name": "stdout",
     "output_type": "stream",
     "text": [
      "Volume from fsolve: 1.700532565663103\n"
     ]
    }
   ],
   "source": [
    "print(\"Volume from fsolve:\", expected)"
   ]
  },
  {
   "cell_type": "code",
   "execution_count": 22,
   "id": "02a47ce8",
   "metadata": {},
   "outputs": [
    {
     "name": "stdout",
     "output_type": "stream",
     "text": [
      "      Volume (Newton)               Error\n",
      "0  1.7505664000000001  0.0500338343368971\n",
      "1  1.7005771958987335  0.0000446302356305\n",
      "2  1.7005325657007959  0.0000000000376930\n"
     ]
    }
   ],
   "source": [
    "data = {'Volume (Newton)': c_val, 'Error':rel_error}\n",
    "\n",
    "df= pd.DataFrame(data)\n",
    "pd.set_option(\"display.precision\", 16)\n",
    "\n",
    "print(df)"
   ]
  },
  {
   "cell_type": "markdown",
   "id": "ad8f6b45",
   "metadata": {},
   "source": [
    "### b) Using secant"
   ]
  },
  {
   "cell_type": "code",
   "execution_count": 23,
   "id": "bfa0bd78",
   "metadata": {},
   "outputs": [],
   "source": [
    "def secant(f, x0, x1):\n",
    "    return x1, x1 - (f(x1)*(x1-x0)/(f(x1)-f(x0)))"
   ]
  },
  {
   "cell_type": "code",
   "execution_count": 24,
   "id": "f532ba04",
   "metadata": {},
   "outputs": [],
   "source": [
    "f = lambda v: (P + pow(n,2)*a/pow(v,2))*(v - n* b) - n*R*T\n",
    "\n",
    "x0, x1 = secant(f, 0.9*V0, V0)\n",
    "c_val = [0.9*V0,x0,x1]\n",
    "error = []\n",
    "Tol = True\n",
    "while Tol:\n",
    "    x0, x1 = secant(f, x0, x1)\n",
    "    \n",
    "    \n",
    "    \n",
    "    Tol = abs(x0 - x1) > pow(10,-10)\n",
    "    \n",
    "    if not Tol:\n",
    "        break\n",
    "        \n",
    "    c_val.append(x1)\n",
    "    \n",
    "for x in c_val:\n",
    "    error.append(abs(x-expected))"
   ]
  },
  {
   "cell_type": "code",
   "execution_count": 25,
   "id": "b2e70f09",
   "metadata": {},
   "outputs": [
    {
     "name": "stdout",
     "output_type": "stream",
     "text": [
      "      Volume (Secant)               Error\n",
      "0  1.5755097600000001  0.1250228056631029\n",
      "1  1.7505664000000001  0.0500338343368971\n",
      "2  1.7004082605234034  0.0001243051396995\n",
      "3  1.7005324514160529  0.0000001142470500\n",
      "4  1.7005325656633716  0.0000000000002687\n"
     ]
    }
   ],
   "source": [
    "data = {'Volume (Secant)': c_val, 'Error':error}\n",
    "\n",
    "df= pd.DataFrame(data)\n",
    "pd.set_option(\"display.precision\", 16)\n",
    "\n",
    "print(df)"
   ]
  },
  {
   "cell_type": "markdown",
   "id": "a2a97f0a",
   "metadata": {},
   "source": [
    "#### Secant (5 iters.) converges slower than Newton (4 iters.) to reach tolerance."
   ]
  },
  {
   "cell_type": "markdown",
   "id": "2dd41518",
   "metadata": {},
   "source": [
    "### c.i) Inverse Quadratic Interpolation"
   ]
  },
  {
   "cell_type": "code",
   "execution_count": 26,
   "id": "3291b11e",
   "metadata": {},
   "outputs": [],
   "source": [
    "def IQI(f, a, b, c):\n",
    "    \n",
    "    a_frac = f(b)*f(c)/((f(a) - f(b)) * (f(a) - f(c)))\n",
    "    a_frac *= a\n",
    "    \n",
    "    b_frac = f(a)*f(c)/((f(b) - f(a)) * (f(b) - f(c)))\n",
    "    b_frac *= b\n",
    "    \n",
    "    c_frac = f(a)*f(b)/((f(c) - f(a)) * (f(c) - f(b)))\n",
    "    c_frac *= c\n",
    "    \n",
    "    return b, c ,a_frac + b_frac + c_frac"
   ]
  },
  {
   "cell_type": "code",
   "execution_count": 27,
   "id": "214c79fb",
   "metadata": {},
   "outputs": [],
   "source": [
    "f = lambda v: (P + pow(n,2)*a/pow(v,2))*(v - n* b) - n*R*T\n",
    "\n",
    "x1, x2 = secant(f, 0.9*V0, V0)\n",
    "x0 = x1*0.9\n",
    "\n",
    "c_val = [x0,x1,x2]\n",
    "error = []\n",
    "Tol = True"
   ]
  },
  {
   "cell_type": "code",
   "execution_count": 28,
   "id": "2e1dd131",
   "metadata": {},
   "outputs": [
    {
     "name": "stdout",
     "output_type": "stream",
     "text": [
      "         Volume (IQI)               Error\n",
      "0  1.5755097600000001  0.1250228056631029\n",
      "1  1.7505664000000001  0.0500338343368971\n",
      "2  1.7004082605234034  0.0001243051396995\n",
      "3  1.7005325753333793  0.0000000096702764\n",
      "4  1.7005325656631018  0.0000000000000011\n"
     ]
    }
   ],
   "source": [
    "while Tol:\n",
    "    x0, x1, x2 = IQI(f, x0, x1, x2)\n",
    "    Tol = abs(x1 - x2) > pow(10,-10)\n",
    "    if not Tol:\n",
    "        break\n",
    "    \n",
    "    c_val.append(x2)\n",
    "    \n",
    "for x in c_val:\n",
    "    error.append(abs(x-expected))\n",
    "    \n",
    "data = {'Volume (IQI)': c_val, 'Error':error}\n",
    "\n",
    "df= pd.DataFrame(data)\n",
    "pd.set_option(\"display.precision\", 16)\n",
    "\n",
    "print(df)"
   ]
  },
  {
   "cell_type": "markdown",
   "id": "a33b4ae1",
   "metadata": {},
   "source": [
    "#### IQI (5 iters.) converges slower than Newton (4 iters.) to reach tolerance."
   ]
  },
  {
   "cell_type": "markdown",
   "id": "c864700b",
   "metadata": {},
   "source": [
    "### c.ii) Steffensen"
   ]
  },
  {
   "cell_type": "code",
   "execution_count": 29,
   "id": "51a0cbba",
   "metadata": {},
   "outputs": [],
   "source": [
    "def steffman(f, x0):\n",
    "    res = [x0]\n",
    "    Tol = True\n",
    "    while Tol:\n",
    "        \n",
    "        x = x0 - pow(f(x0), 2)/(f(x0 + f(x0)) - f(x0))\n",
    "        \n",
    "        Tol = abs(x-x0) > pow(10,-10)\n",
    "        \n",
    "        if not Tol:\n",
    "            break\n",
    "            \n",
    "        res.append(x)\n",
    "        \n",
    "        x0 = x\n",
    "\n",
    "    return res"
   ]
  },
  {
   "cell_type": "code",
   "execution_count": 30,
   "id": "d4e9defe",
   "metadata": {},
   "outputs": [],
   "source": [
    "f = lambda v: (P + pow(n,2)*a/pow(v,2))*(v - n* b) - n*R*T\n",
    "\n",
    "c_val = steffman(f, V0)"
   ]
  },
  {
   "cell_type": "code",
   "execution_count": 31,
   "id": "62723cca",
   "metadata": {},
   "outputs": [
    {
     "name": "stdout",
     "output_type": "stream",
     "text": [
      "   Volume (Steffensen)               Error\n",
      "0   1.7505664000000001  0.0500338343368971\n",
      "1   1.7010185492929391  0.0004859836298361\n",
      "2   1.7005326347473626  0.0000000690842596\n",
      "3   1.7005325656631043  0.0000000000000013\n"
     ]
    }
   ],
   "source": [
    "error = []\n",
    "for x in c_val:\n",
    "    error.append(abs(x-expected))\n",
    "    \n",
    "data = {'Volume (Steffensen)': c_val, 'Error':error}\n",
    "\n",
    "df= pd.DataFrame(data)\n",
    "pd.set_option(\"display.precision\", 16)\n",
    "\n",
    "print(df)"
   ]
  },
  {
   "cell_type": "markdown",
   "id": "246b8d93",
   "metadata": {},
   "source": [
    "#### Steffensen's (4 iters.) converges slightly slower Newton (4 iters.) and slightly less accurate (at i = 3) to reach tolerance."
   ]
  },
  {
   "cell_type": "markdown",
   "id": "1e2e4ac6",
   "metadata": {},
   "source": [
    "### d) Algebra"
   ]
  },
  {
   "cell_type": "markdown",
   "id": "75878266",
   "metadata": {},
   "source": [
    "#### $ V^2 (P + \\frac{n^2 a}{V^2}) (V - nb) = V^2 nRT$\n",
    "#### $ (PV^2 + n^2a) (V - nb) = V^2 nRT$ \n",
    "#### $ PV^3 - nPV^2b +an^2V - an^3b = V^2 nRT$\n",
    "#### $ (P)V^3 - (nPb + nRT)V^2 +(an^2)V - (an^3b) = 0 $"
   ]
  },
  {
   "cell_type": "code",
   "execution_count": 32,
   "id": "a494c4a4",
   "metadata": {},
   "outputs": [
    {
     "name": "stdout",
     "output_type": "stream",
     "text": [
      "V found:  [1.70053257 0.04980973 0.0034071 ]\n"
     ]
    }
   ],
   "source": [
    "R = 0.0820578\n",
    "T = 320\n",
    "P = 15\n",
    "n = 1\n",
    "\n",
    "a = 1.36\n",
    "b = 0.003183\n",
    "\n",
    "coeff = [P, -(n*P*b + n*R*T), a*pow(n,2), -a*pow(n,3)*b]\n",
    "roots = np.roots(coeff)\n",
    "\n",
    "print(\"V found: \", roots)"
   ]
  },
  {
   "cell_type": "code",
   "execution_count": 33,
   "id": "33268fcc",
   "metadata": {},
   "outputs": [
    {
     "name": "stdout",
     "output_type": "stream",
     "text": [
      "Using numpy roots function: V = 1.7005325656631043 L\n",
      "error: 0.0000000000000013\n"
     ]
    }
   ],
   "source": [
    "print(\"Using numpy roots function: V = {} L\".format(roots[0]))\n",
    "print(\"error: {:.16f}\".format(abs(expected - roots[0])))"
   ]
  },
  {
   "cell_type": "markdown",
   "id": "09dde459",
   "metadata": {},
   "source": [
    "---"
   ]
  },
  {
   "cell_type": "markdown",
   "id": "2807bd6b",
   "metadata": {},
   "source": [
    "## Problem 6"
   ]
  },
  {
   "cell_type": "markdown",
   "id": "6f82697a",
   "metadata": {},
   "source": [
    "### let $   x = P_{\\infty}$"
   ]
  },
  {
   "cell_type": "code",
   "execution_count": 34,
   "id": "09d86a92",
   "metadata": {},
   "outputs": [],
   "source": [
    "def generateJ(x,c,k):\n",
    "    J00 = 1/(c+1)\n",
    "    J01 = -x/(c+1)**2\n",
    "    J02 = 0\n",
    "\n",
    "    J10 = 1/(c*exp(-k) +1)\n",
    "    J11 = -exp(-k)*x/(c*exp(-k) +1)**2\n",
    "    J12 = c*exp(-k)*x/ (c*exp(-k) +1)**2\n",
    "\n",
    "    J20 = 1/(c*exp(-2*k)+1)\n",
    "    J21 = -exp(-2*k)*x/(c*exp(-2*k) +1)**2\n",
    "    J22 = 2*c*exp(-2*k)*x/(c*exp(-2*k) +1)**2\n",
    "\n",
    "    J = [[J00, J01, J02],\n",
    "         [J10, J11, J12],\n",
    "         [J20, J21, J22]\n",
    "        ]\n",
    "    \n",
    "    return J"
   ]
  },
  {
   "cell_type": "code",
   "execution_count": 35,
   "id": "9b5337b4",
   "metadata": {},
   "outputs": [],
   "source": [
    "def generatefx(x,c,k):\n",
    "    f1 = x/(1+c) - 1.32\n",
    "    f2 = x/(1+c * exp(-k)) - 1.79\n",
    "    f3 = x/(1+c*exp(-k*2)) - 2.26\n",
    "    \n",
    "    fx = [[f1], [f2], [f3]]\n",
    "    \n",
    "    return fx"
   ]
  },
  {
   "cell_type": "code",
   "execution_count": 36,
   "id": "704faf20",
   "metadata": {},
   "outputs": [],
   "source": [
    "def unpack(X):\n",
    "    return X[0][0], X[1][0], X[2][0]"
   ]
  },
  {
   "cell_type": "code",
   "execution_count": 37,
   "id": "1ffac50b",
   "metadata": {},
   "outputs": [
    {
     "name": "stdout",
     "output_type": "stream",
     "text": [
      "solution:\n",
      "\n",
      "P_inf = 3.5799999999999863\n",
      "c = \t1.7121212121212017\n",
      "k=\t0.5377330766859163\n",
      "expected:\n",
      "\n",
      "P_inf = 3.58\n",
      "c = \t1.7121212121212122\n",
      "k=\t0.5377330766859151\n"
     ]
    }
   ],
   "source": [
    "X = [[4], [2], [0.5]]\n",
    "it = 1\n",
    "\n",
    "res = {}\n",
    "res['k'] = []\n",
    "res['P_inf'] = []\n",
    "res['c'] = []\n",
    "\n",
    "while it < 6:\n",
    "    x, c, k = unpack(X)\n",
    "\n",
    "    f_x = generatefx(x,c,k)\n",
    "    J = generateJ(x,c,k)\n",
    "    J_inv = np.linalg.inv(J)\n",
    "\n",
    "    X = X - np.dot(J_inv, f_x)\n",
    "    \n",
    "    res['k'].append(abs(k - np.log(113/66)))\n",
    "    res['P_inf'].append(abs(x - 3.58))\n",
    "    res['c'].append(abs(c - 113/66))\n",
    "    \n",
    "\n",
    "    it += 1\n",
    "    \n",
    "print(\"solution:\\n\\nP_inf = {}\\nc = \\t{}\\nk=\\t{}\".format(x,c,k))\n",
    "print(\"expected:\\n\\nP_inf = {}\\nc = \\t{}\\nk=\\t{}\".format(3.58, 113/66, np.log(113/66)))"
   ]
  },
  {
   "cell_type": "code",
   "execution_count": 38,
   "id": "56a0a160",
   "metadata": {},
   "outputs": [
    {
     "name": "stdout",
     "output_type": "stream",
     "text": [
      "                    k               P_inf                   c\n",
      "0  0.0377330766859151  0.4199999999999999  0.2878787878787878\n",
      "1  0.0013569777833489  0.0608278840444338  0.0427421251545377\n",
      "2  0.0000858653507353  0.0002017307742839  0.0002065585575337\n",
      "3  0.0000000063279778  0.0000001125872742  0.0000000893871619\n",
      "4  0.0000000000000012  0.0000000000000138  0.0000000000000104\n"
     ]
    }
   ],
   "source": [
    "df = pd.DataFrame(res)\n",
    "print(df)"
   ]
  },
  {
   "cell_type": "markdown",
   "id": "9a4bec5d",
   "metadata": {},
   "source": [
    "#### At each iteration of newton's method for systems, the error in the values computed for (k, P_inf and c) diminishes quadratically. "
   ]
  },
  {
   "cell_type": "markdown",
   "id": "8bfd5a91",
   "metadata": {},
   "source": [
    "## Problem 7"
   ]
  },
  {
   "cell_type": "code",
   "execution_count": 39,
   "id": "13387550",
   "metadata": {},
   "outputs": [
    {
     "name": "stdout",
     "output_type": "stream",
     "text": [
      "0.67696 meters\n"
     ]
    }
   ],
   "source": [
    "a = 0.138*pow(10, -6)\n",
    "t = 5184000 \n",
    "T_i = 20\n",
    "T_s = -15\n",
    "\n",
    "# reorder s.t T(x,t) = ... formula\n",
    "T = lambda x: erf(x*1/(2*pow(a*t, 0.5)))*(T_i - T_s) + T_s\n",
    "\n",
    "#built in solver\n",
    "x1 = fsolve(T, x0=0, xtol=0.00000001)[0]\n",
    "print(\"{} meters\".format(round(x1,5)))"
   ]
  },
  {
   "cell_type": "markdown",
   "id": "56432a11",
   "metadata": {},
   "source": [
    "---"
   ]
  },
  {
   "cell_type": "markdown",
   "id": "31487e69",
   "metadata": {},
   "source": [
    "# FIN"
   ]
  },
  {
   "cell_type": "code",
   "execution_count": null,
   "id": "e3d681cf",
   "metadata": {},
   "outputs": [],
   "source": []
  }
 ],
 "metadata": {
  "kernelspec": {
   "display_name": "Python 3 (ipykernel)",
   "language": "python",
   "name": "python3"
  },
  "language_info": {
   "codemirror_mode": {
    "name": "ipython",
    "version": 3
   },
   "file_extension": ".py",
   "mimetype": "text/x-python",
   "name": "python",
   "nbconvert_exporter": "python",
   "pygments_lexer": "ipython3",
   "version": "3.9.7"
  }
 },
 "nbformat": 4,
 "nbformat_minor": 5
}
